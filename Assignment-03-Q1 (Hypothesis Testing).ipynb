{
 "cells": [
  {
   "cell_type": "code",
   "execution_count": 1,
   "id": "760d2f04",
   "metadata": {},
   "outputs": [],
   "source": [
    "import pandas as pd\n",
    "import numpy as np\n",
    "from scipy import stats\n",
    "from scipy.stats import norm\n",
    "from scipy.stats import chi2_contingency"
   ]
  },
  {
   "cell_type": "code",
   "execution_count": 2,
   "id": "7990d661",
   "metadata": {},
   "outputs": [],
   "source": [
    "# (Q1: A F&B manager wants to determine whether there is any significant difference in the diameter of the cutlet between \n",
    "# two units. A randomly selected sample of cutlets was collected from both units and measured? Analyze the data and\n",
    "# draw inferences at 5% significance level. Please state the assumptions and tests that you carried out to check validity \n",
    "# of the assumptions.)"
   ]
  },
  {
   "cell_type": "code",
   "execution_count": 3,
   "id": "96c936de",
   "metadata": {},
   "outputs": [],
   "source": [
    "Q1=pd.read_csv('cutlets.csv')"
   ]
  },
  {
   "cell_type": "code",
   "execution_count": 4,
   "id": "d4f54ccd",
   "metadata": {},
   "outputs": [
    {
     "data": {
      "text/html": [
       "<div>\n",
       "<style scoped>\n",
       "    .dataframe tbody tr th:only-of-type {\n",
       "        vertical-align: middle;\n",
       "    }\n",
       "\n",
       "    .dataframe tbody tr th {\n",
       "        vertical-align: top;\n",
       "    }\n",
       "\n",
       "    .dataframe thead th {\n",
       "        text-align: right;\n",
       "    }\n",
       "</style>\n",
       "<table border=\"1\" class=\"dataframe\">\n",
       "  <thead>\n",
       "    <tr style=\"text-align: right;\">\n",
       "      <th></th>\n",
       "      <th>Unit A</th>\n",
       "      <th>Unit B</th>\n",
       "    </tr>\n",
       "  </thead>\n",
       "  <tbody>\n",
       "    <tr>\n",
       "      <th>0</th>\n",
       "      <td>6.8090</td>\n",
       "      <td>6.7703</td>\n",
       "    </tr>\n",
       "    <tr>\n",
       "      <th>1</th>\n",
       "      <td>6.4376</td>\n",
       "      <td>7.5093</td>\n",
       "    </tr>\n",
       "    <tr>\n",
       "      <th>2</th>\n",
       "      <td>6.9157</td>\n",
       "      <td>6.7300</td>\n",
       "    </tr>\n",
       "    <tr>\n",
       "      <th>3</th>\n",
       "      <td>7.3012</td>\n",
       "      <td>6.7878</td>\n",
       "    </tr>\n",
       "    <tr>\n",
       "      <th>4</th>\n",
       "      <td>7.4488</td>\n",
       "      <td>7.1522</td>\n",
       "    </tr>\n",
       "  </tbody>\n",
       "</table>\n",
       "</div>"
      ],
      "text/plain": [
       "   Unit A  Unit B\n",
       "0  6.8090  6.7703\n",
       "1  6.4376  7.5093\n",
       "2  6.9157  6.7300\n",
       "3  7.3012  6.7878\n",
       "4  7.4488  7.1522"
      ]
     },
     "execution_count": 4,
     "metadata": {},
     "output_type": "execute_result"
    }
   ],
   "source": [
    "Q1.head()"
   ]
  },
  {
   "cell_type": "code",
   "execution_count": 5,
   "id": "073cc206",
   "metadata": {},
   "outputs": [],
   "source": [
    "# null hypothesis is mean1-mean2=0\n",
    "# alternate hypothesis is mean1-mean2!=0"
   ]
  },
  {
   "cell_type": "code",
   "execution_count": 6,
   "id": "b290a0b3",
   "metadata": {},
   "outputs": [
    {
     "data": {
      "text/plain": [
       "array([0.47223947])"
      ]
     },
     "execution_count": 6,
     "metadata": {},
     "output_type": "execute_result"
    }
   ],
   "source": [
    "p_value=stats.ttest_ind(Q1[['Unit A']],Q1[['Unit B']])[1]\n",
    "p_value"
   ]
  },
  {
   "cell_type": "code",
   "execution_count": 7,
   "id": "501e3ced",
   "metadata": {},
   "outputs": [
    {
     "data": {
      "text/plain": [
       "array([ True])"
      ]
     },
     "execution_count": 7,
     "metadata": {},
     "output_type": "execute_result"
    }
   ],
   "source": [
    "p_value>0.05"
   ]
  },
  {
   "cell_type": "code",
   "execution_count": 8,
   "id": "5d479212",
   "metadata": {},
   "outputs": [],
   "source": [
    "# Therefore p_value is greater than significance value so we go with null hypothesis \n",
    "# According to null hypothesis there is no significant difference in the diameter of the cutlet between two units."
   ]
  }
 ],
 "metadata": {
  "kernelspec": {
   "display_name": "Python 3 (ipykernel)",
   "language": "python",
   "name": "python3"
  },
  "language_info": {
   "codemirror_mode": {
    "name": "ipython",
    "version": 3
   },
   "file_extension": ".py",
   "mimetype": "text/x-python",
   "name": "python",
   "nbconvert_exporter": "python",
   "pygments_lexer": "ipython3",
   "version": "3.9.7"
  }
 },
 "nbformat": 4,
 "nbformat_minor": 5
}
